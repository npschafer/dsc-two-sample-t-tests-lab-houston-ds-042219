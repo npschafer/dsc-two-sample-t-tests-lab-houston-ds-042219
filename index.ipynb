{
 "cells": [
  {
   "cell_type": "markdown",
   "metadata": {},
   "source": [
    "# Two Sample T-Test - Lab\n",
    "\n",
    "## Introduction\n",
    "\n",
    "The two-sample t-test  is used to determine if two population means are equal. A common application is to test if a new process or treatment is superior to a current process or treatment.\n",
    "\n",
    "## Objectives\n",
    "You will be able to:\n",
    "* Understand the t-statistic, p-value, and t-test for 2 sample t-test\n",
    "* Calculate the t-statistic and p-value using formulas as well as Scipy functions\n",
    "* Visually represent the t-test and p-value using the t-distribution\n",
    "* Understand how the t-test and frequentist hypothesis testing relate to the concepts of signal and noise\n",
    "\n",
    "\n",
    "## Example: \n",
    "\n",
    "Consider the following experimental settings for clinical trials of a new blood pressure medicine. \n",
    "\n",
    "In the context of controlled experiments, you will often see talk about the \"control\" group and the \"experimental\" or \"treatment\" group. In a drug test example, the control group is the group given the placebo and the treatment group is given the actual drug. Researchers are interested in the average difference in blood pressure levels between the treatment and control groups.\n",
    "\n",
    "\n",
    ">The 50 subjects in the control group have an average systolic blood pressure of 121.38 who have been given a placebo drug.\n",
    "\n",
    ">The 50 subjects in the experimental / treatment group have an average systolic blood pressure of 111.56 after treatment with the drug being tested. \n",
    "\n",
    "The apparent difference between experimental and control groups is -9.82 points. But with 50 subjects in each group, how confident can a researcher be that this measured difference is real? You can perform a two sample t-test to evaluate this.\n",
    "\n",
    "First, you will calculate a t-statistic for 2 sample t-test, followed by calculation of p-value. \n",
    "\n",
    "You can set up the experimental and control observations below as numpy arrays. First, make sure to import necessary libraries"
   ]
  },
  {
   "cell_type": "code",
   "execution_count": 1,
   "metadata": {},
   "outputs": [],
   "source": [
    "import numpy as np\n",
    "from scipy import stats\n",
    "import seaborn as sns\n",
    "import matplotlib.pyplot as plt\n",
    "\n",
    "sns.set_style('whitegrid')\n",
    "\n",
    "%config InlineBackend.figure_format = 'retina'\n",
    "%matplotlib inline"
   ]
  },
  {
   "cell_type": "code",
   "execution_count": 2,
   "metadata": {},
   "outputs": [],
   "source": [
    "# Use this sample data to conduct experimentation\n",
    "\n",
    "control = np.array([166, 165, 120,  94, 104, 166,  98,  85,  97,  87, 114, 100, 152,\n",
    "                    87, 152, 102,  82,  80,  84, 109,  98, 154, 135, 164, 137, 128,\n",
    "                    122, 146,  86, 146,  85, 101, 109, 105, 163, 136, 142, 144, 140,\n",
    "                    128, 126, 119, 121, 126, 169,  87,  97, 167,  89, 155])\n",
    "\n",
    "experimental = np.array([ 83, 100, 123,  75, 130,  77,  78,  87, 116, 116, 141,  93, 107,\n",
    "                         101, 142, 152, 130, 123, 122, 154, 119, 149, 106, 107, 108, 151,\n",
    "                         97,  95, 104, 141,  80, 110, 136, 134, 142, 135, 111,  83,  86,\n",
    "                         116,  86, 117,  87, 143, 104, 107,  86,  88, 124,  76])\n"
   ]
  },
  {
   "cell_type": "markdown",
   "metadata": {},
   "source": [
    "It is always a good idea to draw the probability distributions for samples to visually inspect the differences present between mean and standard deviation. \n",
    "Plot both samples' distributions and inspect the overlap using seaborn to get an idea how different the samples might be from one another. "
   ]
  },
  {
   "cell_type": "code",
   "execution_count": 4,
   "metadata": {},
   "outputs": [
    {
     "data": {
      "text/plain": [
       "<matplotlib.legend.Legend at 0x7f9670eb33c8>"
      ]
     },
     "execution_count": 4,
     "metadata": {},
     "output_type": "execute_result"
    },
    {
     "data": {
      "image/png": "[encoded data removed]",
      "text/plain": [
       "<Figure size 432x288 with 1 Axes>"
      ]
     },
     "metadata": {
      "image/png": {
       "height": 250,
       "width": 370
      },
      "needs_background": "light"
     },
     "output_type": "display_data"
    }
   ],
   "source": [
    "# Draw a plot showing overlapping of distribution means and sds for incpection\n",
    "plt.hist(control, alpha=0.5, label='control')\n",
    "plt.hist(experimental, alpha=0.5, label='experimental')\n",
    "plt.vlines(np.mean(control), ymin=0, ymax=10, label='control mean')\n",
    "plt.vlines(np.mean(experimental), ymin=0, ymax=10, label='experimental mean')\n",
    "plt.legend()"
   ]
  },
  {
   "cell_type": "markdown",
   "metadata": {},
   "source": [
    "There are some slight differences between the mean and standard deviation of the control and experimental groups. This is a good sign to further our experimentation and to calculate whether the difference is significant, or not. As a reminder the five steps to performing a hypothesis test are:\n",
    "\n",
    "1) Set up null and alternative hypotheses   \n",
    "2) Choose a significance level   \n",
    "3) Calculate the test statistic   \n",
    "4) Determine the critical or p-value (find the rejection region)   \n",
    "5) Compare t-value with critical t-value to reject or fail to reject the null hypothesis   \n",
    "\n",
    "## The Null Hypothesis\n",
    "\n",
    "In thus drug efficacy experiment example, you can define the null hypothesis to be that there is no difference between a subject taking a placebo and the treatment drug.\n",
    "\n",
    ">**$H_{0}$: The mean difference between treatment and control groups is zero. i.e. $H_{0} = H_{1}$**\n",
    "\n",
    "## The Alternate Hypothesis\n",
    "\n",
    "In this example the alternative hypothesis is that there is in fact a mean difference in blood pressure between the treatment and control groups.\n",
    "\n",
    ">**$H_{1}$ (2-tailed): The parameter of interest, our mean difference between treatment and control, is different than zero.**\n",
    "\n",
    ">**$H_{1}$ (1-tailed, >): The parameter of interest, our mean difference between treatment and control, is greater than zero.**\n",
    "\n",
    ">**$H_{1}$ (1-tailed, <): The parameter of interest, our mean difference between treatment and control, is less than zero.**\n",
    "\n",
    "NOTE: The null hypothesis and alternative hypothesis are concerned with the true values, or in other words the parameter of the overall population. Through the process of experimentation/hypothesis testing and statistical analysis of the results, we will make an inference about this population parameter.\n",
    "\n",
    "\n",
    "Now, calculate the mean difference between both groups."
   ]
  },
  {
   "cell_type": "code",
   "execution_count": null,
   "metadata": {},
   "outputs": [],
   "source": [
    "# -9.819999999999993"
   ]
  },
  {
   "cell_type": "markdown",
   "metadata": {},
   "source": [
    "What is the probability that you would observe this data GIVEN a specified mean difference in blood pressure?\n",
    "\n",
    "You obviously don't know the true mean difference in blood pressure resulting from administration the drug. The whole point of conducting the experiment is to evaluate the drug. Instead you must assume that the true mean difference is zero: the null hypothesis $H_{0}$ is assumed to be true:\n",
    "\n",
    "## Calculating the t-statistic\n",
    "When comparing the difference between groups, we can calculate the two-sample t-statistic like so:\n",
    "\n",
    "$$\\large t = \\frac{\\bar{x}_{1} - \\bar{x}_{2}}{\\sqrt{s^{2}_{p} (\\frac{1}{n_{1}} + \\frac{1}{n_{2}}) }    }  $$\n",
    "\n",
    "Where $s^{2}_{p}$ is the pooled sample variance, calculated as:\n",
    "\n",
    "$$\\large s^{2}_{p}  = \\frac{(n_{1} -1)s^{2}_{1} +  (n_{2} -1)s^{2}_{2}}{n_{1} + n_{2} + 2}  $$\n",
    "\n",
    "Where $s^{2}_{1}$ and $s^{2}_{2}$ are the variances for each sample given by the formula \n",
    "$$ \\large s^{2} = \\frac{\\sum_{i=1}^{n}(x_{i} - \\bar{x})^{2}}{n-1} $$\n",
    "\n",
    "\n",
    "## Calculating pooled sample variance\n",
    "The $s^2_{p}$ denotes the sample variance. In this version of the t-test you are assuming equal variances in our experimental and control groups in the overall population. There is another way to calculate the t-test where equal variance is not assumed, but in this case it is a reasonable assumption.\n",
    "\n",
    "This approach combines the variance of the two group's variance measurements into a single, pooled metric.\n",
    "\n",
    "Now, create some functions to calculate the t-statistic. The first function to create is one that calculates the variance for a single sample."
   ]
  },
  {
   "cell_type": "code",
   "execution_count": null,
   "metadata": {},
   "outputs": [],
   "source": [
    "def sample_variance(sample):\n",
    "    \n",
    "    return None"
   ]
  },
  {
   "cell_type": "markdown",
   "metadata": {},
   "source": [
    "Using `sample_variance`, you can now write another function `pooled_variance` to calculate $S_{p}^{2}$"
   ]
  },
  {
   "cell_type": "code",
   "execution_count": null,
   "metadata": {},
   "outputs": [],
   "source": [
    "def pooled_variance(sample1, sample2):\n",
    "    \n",
    "    return None"
   ]
  },
  {
   "cell_type": "markdown",
   "metadata": {},
   "source": [
    "Now that you have $S_{p}^{2}$, create a function `twosample_tstatistic` to calculate the two sample t-statistic using the formula given earlier. "
   ]
  },
  {
   "cell_type": "code",
   "execution_count": null,
   "metadata": {},
   "outputs": [],
   "source": [
    "def twosample_tstatistic(expr, ctrl):\n",
    "\n",
    "    return None\n",
    "\n",
    "t_stat = None\n",
    "# -1.8915462966190268"
   ]
  },
  {
   "cell_type": "markdown",
   "metadata": {},
   "source": [
    "Using the data from the samples, you can now determine the critical values with the t-statistic and calculate the area under the curve to determine the p-value. \n",
    "\n",
    "Write a function `visualize_t` that uses matplotlib to display a standard t-distribution with vertical lines identifying each critical value that signifies the rejection region."
   ]
  },
  {
   "cell_type": "code",
   "execution_count": null,
   "metadata": {},
   "outputs": [],
   "source": [
    "# Visualize t and p_value\n",
    "\n",
    "def visualize_t(t_stat, n_control, n_experimental):\n",
    "\n",
    "    # initialize a matplotlib \"figure\"\n",
    "\n",
    "    # generate points on the x axis between -4 and 4:\n",
    " \n",
    "    # use stats.t.pdf to get values on the probability density function for the t-distribution\n",
    "    \n",
    "    # Draw two sided boundary for critical-t\n",
    "\n",
    "    return None\n",
    "\n",
    "n_control = None\n",
    "n_experimental = None\n",
    "visualize_t(t_stat, n_control, n_experimental)"
   ]
  },
  {
   "cell_type": "markdown",
   "metadata": {},
   "source": [
    "Now that you have defined your boundaries for significance, you can simply calculate p_value by calculating the total area under curve using `stats.t.cdf()`. \n",
    "\n",
    "Given a t-value and a degrees of freedom, you can use the \"survival function\" sf of scipy.stats.t (aka the complementary CDF) to compute the one-sided p-value. For the two-sided p-value, just double the one-sided p-value."
   ]
  },
  {
   "cell_type": "code",
   "execution_count": null,
   "metadata": {},
   "outputs": [],
   "source": [
    "## Calculate p_value\n",
    "# Lower tail comulative density function returns area under the lower tail curve\n",
    "lower_tail = stats.t.cdf(-1.89, (50+50-2), 0, 1)\n",
    "# Upper tail comulative density function returns area under upper tail curve\n",
    "upper_tail = 1. - stats.t.cdf(1.89, (50+50-2), 0, 1)\n",
    "\n",
    "p_value = lower_tail+upper_tail\n",
    "print(p_value)"
   ]
  },
  {
   "cell_type": "markdown",
   "metadata": {},
   "source": [
    "To verify these results, you can use SciPy's functions to calculate the p_value in a one liner. "
   ]
  },
  {
   "cell_type": "code",
   "execution_count": null,
   "metadata": {},
   "outputs": [],
   "source": [
    "## your code here\n",
    "'''\n",
    "Calculates the T-test for the means of *two independent* samples of scores.\n",
    "\n",
    "This is a two-sided test for the null hypothesis that 2 independent samples\n",
    "have identical average (expected) values. This test assumes that the\n",
    "populations have identical variances by default.\n",
    "'''\n",
    "\n",
    "stats.ttest_ind(experimental, control)"
   ]
  },
  {
   "cell_type": "markdown",
   "metadata": {},
   "source": [
    "## Summary\n",
    "In this lesson, you ran hypothesis testing using frequentists methods with t-values and p-values. You saw how a two sample t-test can be applied to contexts where the population and sample mean are known and you have a limited amount of sample data. You looked at all the stages required for such hypothesis testing with a description of the steps and also how to perform these functions in python. You also used built-in SciPy functions to calculate test statistics and p-value as a way to verify the manual calculations performed. "
   ]
  }
 ],
 "metadata": {
  "kernelspec": {
   "display_name": "Python 3",
   "language": "python",
   "name": "python3"
  },
  "language_info": {
   "codemirror_mode": {
    "name": "ipython",
    "version": 3
   },
   "file_extension": ".py",
   "mimetype": "text/x-python",
   "name": "python",
   "nbconvert_exporter": "python",
   "pygments_lexer": "ipython3",
   "version": "3.6.6"
  }
 },
 "nbformat": 4,
 "nbformat_minor": 2
}
